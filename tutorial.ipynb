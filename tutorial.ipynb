{
 "cells": [
  {
   "cell_type": "markdown",
   "metadata": {},
   "source": [
    "### <b>Main references and important websites</b>\n",
    "\n",
    "https://gymnasium.farama.org/content/basic_usage/\n",
    "\n",
    "https://github.com/Farama-Foundation/HighwayEnv"
   ]
  },
  {
   "cell_type": "markdown",
   "metadata": {},
   "source": [
    "### <b>Get this minimalistic setup from my github:</b>\n",
    "https://github.com/cisimon7/HighwayEnvTutorial\n",
    "\n",
    "<br>\n",
    "\n",
    "`conda create --prefix ./.venv -y`\n",
    "\n",
    "`conda activate ./.venv`\n",
    "\n",
    "`pip install -r requirements.txt`"
   ]
  },
  {
   "cell_type": "markdown",
   "metadata": {},
   "source": [
    "### <b>Simulator structure</b>"
   ]
  },
  {
   "cell_type": "markdown",
   "metadata": {},
   "source": [
    "<!-- <p align=\"center\">\n",
    "  <img src=\"./images/AE_loop_dark.png\" width=600 height=500/>\n",
    "</p> -->"
   ]
  },
  {
   "cell_type": "markdown",
   "metadata": {},
   "source": [
    "### <b>Sample code</b>"
   ]
  },
  {
   "cell_type": "markdown",
   "metadata": {},
   "source": [
    "```python\n",
    "\n",
    "import gymnasium as gym\n",
    "\n",
    "# First create an environment\n",
    "env = gym.make(\"highway-v0\", config=env_config, render_mode=\"human\")\n",
    "\n",
    "# Initialization of the environment and resetting and observation \n",
    "observation, info = env.reset(seed=42)\n",
    "\n",
    "# Simulation run\n",
    "for _ in range(1_000):\n",
    "   # This is where you would insert your policy\n",
    "   action = env.action_space.sample()  \n",
    "\n",
    "   # Run one forward step of the simulator world and actors (robots)\n",
    "   observation, reward, terminated, truncated, info = env.step(action)\n",
    "\n",
    "   # Checking for terminate state (conditions)\n",
    "   if terminated or truncated:\n",
    "      observation, info = env.reset()\n",
    "\n",
    "env.close()\n",
    "```"
   ]
  },
  {
   "cell_type": "markdown",
   "metadata": {},
   "source": [
    "#### <b>Setting Observations</b> \n",
    "https://highway-env.farama.org/observations/\n",
    "\n",
    "```python\n",
    "\"observation\": {\n",
    "    \"type\": \"kinematics\",   \n",
    "    \"vehicles_count\": 15,\n",
    "    \"features\": [\"x\", \"y\", \"vx\", \"vy\", \"heading\"],\n",
    "    \"features_range\": {\n",
    "        \"x\": [-100, 100],\n",
    "        \"y\": [-100, 100],\n",
    "        \"vx\": [-20, 20],\n",
    "        \"vy\": [-20, 20]\n",
    "    },\n",
    "    \"grid_size\": [[-27.5, 27.5], [-27.5, 27.5]],\n",
    "    \"grid_step\": [5, 5],\n",
    "    \"absolute\": False \n",
    "}\n",
    "```"
   ]
  },
  {
   "cell_type": "markdown",
   "metadata": {},
   "source": [
    "Shape Observation: $N \\times F$\n",
    "\n",
    "| Vehicle | x    | y   | vx    | vy   | heading    |   \n",
    "| :---:   | :---: | :---: | :---: | :---: | :---: |\n",
    "| ego | 301   | 283   | 301   | 283   | 301   | \n",
    "| vehicle 1 | 301   | 283   | 301   | 283   | 301   | \n",
    "| vehicle 2 | 301   | 283   | 301   | 283   | 301   | \n",
    "| ... | ...   | ...   | ...   | ...   | ...   | \n",
    "| vehicle n | 301   | 283   | 301   | 283   | 301   | "
   ]
  },
  {
   "cell_type": "markdown",
   "metadata": {},
   "source": [
    "* If configured with absolute=False, the coordinates are relative to the ego-vehicle, except for the ego-vehicle which stays absolute.\n",
    "\n",
    "* If configured with normalize=True (default), the observation is normalized within a fixed range, which gives for the range [100, 100, 20, 20]"
   ]
  },
  {
   "cell_type": "code",
   "execution_count": null,
   "metadata": {
    "vscode": {
     "languageId": "plaintext"
    }
   },
   "outputs": [],
   "source": []
  }
 ],
 "metadata": {
  "language_info": {
   "name": "python"
  }
 },
 "nbformat": 4,
 "nbformat_minor": 2
}
