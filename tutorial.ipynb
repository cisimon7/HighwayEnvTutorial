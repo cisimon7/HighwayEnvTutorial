{
 "cells": [
  {
   "cell_type": "markdown",
   "metadata": {},
   "source": [
    "### <b>Main references and important websites</b>\n",
    "\n",
    "https://gymnasium.farama.org/content/basic_usage/\n",
    "\n",
    "https://github.com/Farama-Foundation/HighwayEnv"
   ]
  },
  {
   "cell_type": "markdown",
   "metadata": {},
   "source": [
    "### <b>Get this minimalistic setup from my github:</b>\n",
    "www.github.com/cisimon7/\n",
    "\n",
    "<br>\n",
    "\n",
    "`conda create --prefix ./.venv -y`\n",
    "\n",
    "`conda activate ./.venv`\n",
    "\n",
    "`pip install -r requirements.txt`"
   ]
  },
  {
   "cell_type": "markdown",
   "metadata": {},
   "source": [
    "### <b>Simulator structure</b>"
   ]
  },
  {
   "cell_type": "markdown",
   "metadata": {},
   "source": [
    "\n",
    "<p align=\"center\">\n",
    "  <img src=\"./images/AE_loop_dark.png\" width=600 height=500/>\n",
    "</p>"
   ]
  },
  {
   "cell_type": "markdown",
   "metadata": {},
   "source": [
    "### <b>Sample code</b>"
   ]
  },
  {
   "cell_type": "markdown",
   "metadata": {},
   "source": [
    "```python\n",
    "\n",
    "import gymnasium as gym\n",
    "\n",
    "# First create an environment\n",
    "env = gym.make(\"highway-v0\", config=env_config, render_mode=\"human\")\n",
    "\n",
    "# Initialization of the environment and resetting and observation \n",
    "observation, info = env.reset(seed=42)\n",
    "\n",
    "# Simulation run\n",
    "for _ in range(1_000):\n",
    "   # This is where you would insert your policy\n",
    "   action = env.action_space.sample()  \n",
    "\n",
    "   # Run one forward step of the simulator world and actors (robots)\n",
    "   observation, reward, terminated, truncated, info = env.step(action)\n",
    "\n",
    "   # Checking for terminate state (conditions)\n",
    "   if terminated or truncated:\n",
    "      observation, info = env.reset()\n",
    "\n",
    "env.close()\n",
    "```"
   ]
  },
  {
   "cell_type": "code",
   "execution_count": null,
   "metadata": {},
   "outputs": [],
   "source": []
  }
 ],
 "metadata": {
  "language_info": {
   "name": "python"
  }
 },
 "nbformat": 4,
 "nbformat_minor": 2
}
